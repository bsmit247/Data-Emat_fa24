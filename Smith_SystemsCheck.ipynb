{
 "cells": [
  {
   "cell_type": "markdown",
   "id": "28e65da1-07ff-4e10-bbdd-9c42a6e694bd",
   "metadata": {},
   "source": [
    "# Systems Check\n",
    "## Breena J. Smith\n",
    "### 8/22/2024\n",
    "\n",
    "In this class I want to learn how to process __data__ and better understand what people may want in the _future_, or they could want out of what I create. I also want to better learn\n",
    "1. How to collect the data\n",
    "2. How to understand it\n",
    "3. The tools to get to where I need.\n",
    "\n",
    "![Terry](https://img.nbc.com/files/AGT-TerryCrews-bio-S17-1455x1455.jpg)\n"
   ]
  },
  {
   "cell_type": "code",
   "execution_count": null,
   "id": "2b01b67f-d0bd-4aea-b9f3-a3e397ee4037",
   "metadata": {},
   "outputs": [],
   "source": [
    "\n"
   ]
  }
 ],
 "metadata": {
  "kernelspec": {
   "display_name": "Python 3 (ipykernel)",
   "language": "python",
   "name": "python3"
  },
  "language_info": {
   "codemirror_mode": {
    "name": "ipython",
    "version": 3
   },
   "file_extension": ".py",
   "mimetype": "text/x-python",
   "name": "python",
   "nbconvert_exporter": "python",
   "pygments_lexer": "ipython3",
   "version": "3.12.4"
  }
 },
 "nbformat": 4,
 "nbformat_minor": 5
}
